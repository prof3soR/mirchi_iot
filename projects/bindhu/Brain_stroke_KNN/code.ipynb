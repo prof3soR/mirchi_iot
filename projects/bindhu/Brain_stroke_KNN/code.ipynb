{
 "cells": [
  {
   "cell_type": "code",
   "execution_count": 4,
   "id": "ccc458b3",
   "metadata": {},
   "outputs": [
    {
     "name": "stdout",
     "output_type": "stream",
     "text": [
      "KNN model and LabelEncoder saved as pickle files.\n"
     ]
    },
    {
     "name": "stderr",
     "output_type": "stream",
     "text": [
      "/var/folders/pq/10ytbdq13qx7cm5dyhtddgz80000gn/T/ipykernel_8230/3418278385.py:17: SettingWithCopyWarning: \n",
      "A value is trying to be set on a copy of a slice from a DataFrame.\n",
      "Try using .loc[row_indexer,col_indexer] = value instead\n",
      "\n",
      "See the caveats in the documentation: https://pandas.pydata.org/pandas-docs/stable/user_guide/indexing.html#returning-a-view-versus-a-copy\n",
      "  X['gender'] = label_encoder.fit_transform(X['gender'])\n",
      "/var/folders/pq/10ytbdq13qx7cm5dyhtddgz80000gn/T/ipykernel_8230/3418278385.py:18: SettingWithCopyWarning: \n",
      "A value is trying to be set on a copy of a slice from a DataFrame.\n",
      "Try using .loc[row_indexer,col_indexer] = value instead\n",
      "\n",
      "See the caveats in the documentation: https://pandas.pydata.org/pandas-docs/stable/user_guide/indexing.html#returning-a-view-versus-a-copy\n",
      "  X['ever_married'] = label_encoder.fit_transform(X['ever_married'])\n",
      "/var/folders/pq/10ytbdq13qx7cm5dyhtddgz80000gn/T/ipykernel_8230/3418278385.py:19: SettingWithCopyWarning: \n",
      "A value is trying to be set on a copy of a slice from a DataFrame.\n",
      "Try using .loc[row_indexer,col_indexer] = value instead\n",
      "\n",
      "See the caveats in the documentation: https://pandas.pydata.org/pandas-docs/stable/user_guide/indexing.html#returning-a-view-versus-a-copy\n",
      "  X['work_type'] = label_encoder.fit_transform(X['work_type'])\n",
      "/var/folders/pq/10ytbdq13qx7cm5dyhtddgz80000gn/T/ipykernel_8230/3418278385.py:20: SettingWithCopyWarning: \n",
      "A value is trying to be set on a copy of a slice from a DataFrame.\n",
      "Try using .loc[row_indexer,col_indexer] = value instead\n",
      "\n",
      "See the caveats in the documentation: https://pandas.pydata.org/pandas-docs/stable/user_guide/indexing.html#returning-a-view-versus-a-copy\n",
      "  X['Residence_type'] = label_encoder.fit_transform(X['Residence_type'])\n",
      "/var/folders/pq/10ytbdq13qx7cm5dyhtddgz80000gn/T/ipykernel_8230/3418278385.py:21: SettingWithCopyWarning: \n",
      "A value is trying to be set on a copy of a slice from a DataFrame.\n",
      "Try using .loc[row_indexer,col_indexer] = value instead\n",
      "\n",
      "See the caveats in the documentation: https://pandas.pydata.org/pandas-docs/stable/user_guide/indexing.html#returning-a-view-versus-a-copy\n",
      "  X['smoking_status'] = label_encoder.fit_transform(X['smoking_status'])\n"
     ]
    }
   ],
   "source": [
    "import pandas as pd\n",
    "from sklearn.model_selection import train_test_split\n",
    "from sklearn.preprocessing import LabelEncoder, StandardScaler\n",
    "from sklearn.neighbors import KNeighborsClassifier\n",
    "import pickle\n",
    "\n",
    "# Step 1: Load the data\n",
    "data = pd.read_csv('your_file_path.csv')\n",
    "\n",
    "# Extract features and target variable\n",
    "X = data[['gender', 'age', 'hypertension', 'heart_disease', 'ever_married',\n",
    "          'work_type', 'Residence_type', 'avg_glucose_level', 'bmi', 'smoking_status']]\n",
    "y = data['stroke']\n",
    "\n",
    "# Convert categorical variables to numerical using LabelEncoder\n",
    "label_encoder = LabelEncoder()\n",
    "X['gender'] = label_encoder.fit_transform(X['gender'])\n",
    "X['ever_married'] = label_encoder.fit_transform(X['ever_married'])\n",
    "X['work_type'] = label_encoder.fit_transform(X['work_type'])\n",
    "X['Residence_type'] = label_encoder.fit_transform(X['Residence_type'])\n",
    "X['smoking_status'] = label_encoder.fit_transform(X['smoking_status'])\n",
    "\n",
    "# Save the LabelEncoder as pickle file\n",
    "with open('label_encoder.pkl', 'wb') as file:\n",
    "    pickle.dump(label_encoder, file)\n",
    "\n",
    "# Encode the target variable y\n",
    "y = label_encoder.fit_transform(y)\n",
    "\n",
    "# Step 2: Split the data into training and testing sets\n",
    "X_train, X_test, y_train, y_test = train_test_split(X, y, test_size=0.2, random_state=42)\n",
    "\n",
    "# Step 3: Feature scaling (Optional but can improve KNN performance)\n",
    "scaler = StandardScaler()\n",
    "X_train_scaled = scaler.fit_transform(X_train)\n",
    "X_test_scaled = scaler.transform(X_test)\n",
    "\n",
    "# Step 4: Train the KNN model\n",
    "knn_model = KNeighborsClassifier(n_neighbors=3)  # You can adjust the value of K as needed\n",
    "knn_model.fit(X_train_scaled, y_train)\n",
    "\n",
    "# Step 5: Save the trained model as a pickle file\n",
    "with open('knn_model.pkl', 'wb') as file:\n",
    "    pickle.dump(knn_model, file)\n",
    "\n",
    "print(\"KNN model and LabelEncoder saved as pickle files.\")\n"
   ]
  }
 ],
 "metadata": {
  "kernelspec": {
   "display_name": "Python 3 (ipykernel)",
   "language": "python",
   "name": "python3"
  },
  "language_info": {
   "codemirror_mode": {
    "name": "ipython",
    "version": 3
   },
   "file_extension": ".py",
   "mimetype": "text/x-python",
   "name": "python",
   "nbconvert_exporter": "python",
   "pygments_lexer": "ipython3",
   "version": "3.11.0"
  }
 },
 "nbformat": 4,
 "nbformat_minor": 5
}
